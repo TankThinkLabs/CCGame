{
 "metadata": {
  "name": "deployd_utils"
 },
 "nbformat": 3,
 "nbformat_minor": 0,
 "worksheets": [
  {
   "cells": [
    {
     "cell_type": "code",
     "collapsed": false,
     "input": [
      "import requests\n",
      "import pprint\n",
      "import json"
     ],
     "language": "python",
     "metadata": {},
     "outputs": [],
     "prompt_number": 69
    },
    {
     "cell_type": "code",
     "collapsed": false,
     "input": [
      "# attempting first post mechanism\n",
      "payload = {\n",
      "    'username': 'userone',\n",
      "    'password': 'userone',\n",
      "    'displayName': 'User One'\n",
      "    }\n",
      "r = requests.post(\"http://localhost:2403/users\", data=payload)\n",
      "\n",
      "print r.text\n",
      "\n",
      "payload = {\n",
      "    'username': 'usertwo',\n",
      "    'password': 'usertwo',\n",
      "    'displayName': 'User Two'\n",
      "    }\n",
      "r = requests.post(\"http://localhost:2403/users\", data=payload)\n",
      "\n",
      "print r.text\n",
      "\n",
      "# attempting first post mechanism\n",
      "payload = {\n",
      "    'username': 'userthree',\n",
      "    'password': 'userthree',\n",
      "    'displayName': 'User Three'\n",
      "    }\n",
      "r = requests.post(\"http://localhost:2403/users\", data=payload)\n",
      "\n",
      "print r.text"
     ],
     "language": "python",
     "metadata": {},
     "outputs": [
      {
       "output_type": "stream",
       "stream": "stdout",
       "text": [
        "{\"errors\":{\"username\":\"is already in use\"},\"status\":400}\n",
        "{\"errors\":{\"username\":\"is already in use\"},\"status\":400}\n",
        "{\"errors\":{\"username\":\"is already in use\"},\"status\":400}\n"
       ]
      }
     ],
     "prompt_number": 70
    },
    {
     "cell_type": "code",
     "collapsed": false,
     "input": [
      "# get list of all users\n",
      "\n",
      "r = requests.get('http://localhost:2403/users')\n",
      "pprint.pprint(r.json())"
     ],
     "language": "python",
     "metadata": {},
     "outputs": [
      {
       "output_type": "stream",
       "stream": "stdout",
       "text": [
        "[{u'displayName': u'User One',\n",
        "  u'id': u'516bb2e994ab583c',\n",
        "  u'username': u'userone'},\n",
        " {u'displayName': u'User Two',\n",
        "  u'id': u'0870df8820cd18b6',\n",
        "  u'username': u'usertwo'},\n",
        " {u'displayName': u'User Three',\n",
        "  u'id': u'f20ca38334e54b3a',\n",
        "  u'username': u'userthree'}]\n"
       ]
      }
     ],
     "prompt_number": 46
    },
    {
     "cell_type": "code",
     "collapsed": false,
     "input": [
      "r = requests.get('http://localhost:2403/users/516bb2e994ab583c')\n",
      "print r.text\n",
      "# only returns the username & id since the other fields are protected"
     ],
     "language": "python",
     "metadata": {},
     "outputs": [
      {
       "output_type": "stream",
       "stream": "stdout",
       "text": [
        "{\"displayName\":\"User One\",\"username\":\"userone\",\"id\":\"516bb2e994ab583c\"}\n"
       ]
      }
     ],
     "prompt_number": 48
    },
    {
     "cell_type": "code",
     "collapsed": false,
     "input": [
      "# attempting first login mechanism\n",
      "payload = {\n",
      "    'username': 'userone',\n",
      "    'password': 'userone'\n",
      "    }\n",
      "r = requests.post(\"http://localhost:2403/users/login\", data=payload)\n",
      "\n",
      "\n",
      "sid = ''\n",
      "\n",
      "if 'id' in r.json().keys():\n",
      "\n",
      "    print r.text\n",
      "\n",
      "    sid = r.json()['id']\n"
     ],
     "language": "python",
     "metadata": {},
     "outputs": [
      {
       "output_type": "stream",
       "stream": "stdout",
       "text": [
        "{\"path\":\"/users\",\"uid\":\"516bb2e994ab583c\",\"id\":\"fba2daa97270e1e5a8a83f39c7be1a1f43c9a17a31633cc112ce4cd7b09d10e990d5a1eaa731aad5b8cf3b58c781c8e2fcae433dbcb6caccce0e0b53b6e70b9e\"}\n"
       ]
      }
     ],
     "prompt_number": 60
    },
    {
     "cell_type": "code",
     "collapsed": false,
     "input": [
      "# get current user\n",
      "\n",
      "cookies = dict(sid=sid)\n",
      "r = requests.get(\"http://localhost:2403/users/me\", cookies=cookies)\n",
      "print r.text"
     ],
     "language": "python",
     "metadata": {},
     "outputs": [
      {
       "output_type": "stream",
       "stream": "stdout",
       "text": [
        "{\"displayName\":\"User One\",\"username\":\"userone\",\"id\":\"516bb2e994ab583c\"}\n"
       ]
      }
     ],
     "prompt_number": 61
    },
    {
     "cell_type": "code",
     "collapsed": false,
     "input": [
      "# log out\n",
      "r = requests.post(\"http://localhost:2403/users/logout\", cookies=cookies)\n",
      "print r.text"
     ],
     "language": "python",
     "metadata": {},
     "outputs": [
      {
       "output_type": "stream",
       "stream": "stdout",
       "text": [
        "\n"
       ]
      }
     ],
     "prompt_number": 62
    },
    {
     "cell_type": "code",
     "collapsed": false,
     "input": [
      "# verify log out\n",
      "cookies = dict(sid=sid)\n",
      "r = requests.get(\"http://localhost:2403/users/me\", cookies=cookies)\n",
      "print r.text"
     ],
     "language": "python",
     "metadata": {},
     "outputs": [
      {
       "output_type": "stream",
       "stream": "stdout",
       "text": [
        "\n"
       ]
      }
     ],
     "prompt_number": 63
    },
    {
     "cell_type": "code",
     "collapsed": false,
     "input": [
      "# utility methods\n",
      "\n",
      "def signin(username, password):\n",
      "    # attempting first login mechanism\n",
      "    payload = {\n",
      "        'username': username,\n",
      "        'password': password\n",
      "        }\n",
      "    r = requests.post(\"http://localhost:2403/users/login\", data=payload)\n",
      "\n",
      "    sid = ''\n",
      "    uid = ''\n",
      "\n",
      "    if 'id' in r.json().keys():\n",
      "        sid = r.json()['id']\n",
      "        uid = r.json()['uid']\n",
      "    \n",
      "    if len(sid)>0:\n",
      "        print 'login as %s successful' % username\n",
      "        \n",
      "    return {\n",
      "        'sid':sid, \n",
      "        'uid':uid\n",
      "        }\n",
      "\n",
      "def signout():\n",
      "   # log out\n",
      "    r = requests.post(\"http://localhost:2403/users/logout\", cookies=cookies)\n",
      "\n",
      "def isLoggedIn():\n",
      "    cookies = dict(sid=sid)\n",
      "    r = requests.get(\"http://localhost:2403/users/me\", cookies=cookies)\n",
      "    return len(r.text) > 0\n",
      "\n",
      "def getTeamByName(team_name):\n",
      "    payload = { 'username': team_name}\n",
      "    r = requests.get('http://localhost:2403/teams', params=payload)\n",
      "    return r.json()[0]\n",
      "\n",
      "def getUserByName(user_name):\n",
      "    payload = { 'username': user_name}\n",
      "    r = requests.get('http://localhost:2403/users', params=payload)\n",
      "    return r.json()[0]\n",
      "\n",
      "def addTeamMember(session_id, team_data, user_data):\n",
      "    cookies = dict(sid=session_id)    \n",
      "    if user_data['id'] not in team_data['userList']:\n",
      "        team_data['userList'].append(user_data['id'])\n",
      "    puturl = 'http://localhost:2403/teams/%s' % team_data['id']\n",
      "    r = requests.put(puturl, data=json.dumps(team_data), cookies=cookies)\n",
      "    print r.text"
     ],
     "language": "python",
     "metadata": {},
     "outputs": [],
     "prompt_number": 127
    },
    {
     "cell_type": "markdown",
     "metadata": {},
     "source": [
      "### Teams"
     ]
    },
    {
     "cell_type": "code",
     "collapsed": false,
     "input": [
      "# first sign in as user\n",
      "user_to_use = 'userone'\n",
      "current_user_data = signin(user_to_use, user_to_use)\n",
      "\n",
      "# attempting first post mechanism\n",
      "payload = {\n",
      "    'username': 'teamawesome',\n",
      "    'password': 'teamawesome',\n",
      "    'displayName': 'Awesome team',\n",
      "    'manager' : current_user_data['uid'],\n",
      "    'userList' : [current_user_data['uid']],\n",
      "    'competitions' : []\n",
      "    }\n",
      "\n",
      "cookies = dict(sid=current_user_data['sid'])\n",
      "\n",
      "r = requests.post(\"http://localhost:2403/teams\", data=json.dumps(payload), cookies=cookies)\n",
      "\n",
      "print r.text"
     ],
     "language": "python",
     "metadata": {},
     "outputs": [
      {
       "output_type": "stream",
       "stream": "stdout",
       "text": [
        "login as userone successful\n",
        "{\"displayName\":\"Awesome team\",\"manager\":\"516bb2e994ab583c\",\"userList\":[\"516bb2e994ab583c\"],\"competitions\":[],\"username\":\"teamawesome\",\"id\":\"e0d62c1416343ae1\"}\n"
       ]
      }
     ],
     "prompt_number": 121
    },
    {
     "cell_type": "code",
     "collapsed": false,
     "input": [
      "signout()"
     ],
     "language": "python",
     "metadata": {},
     "outputs": [],
     "prompt_number": 112
    },
    {
     "cell_type": "code",
     "collapsed": false,
     "input": [
      "#add user to a team\n",
      "\n",
      "# 1) sign in as manager\n",
      "\n",
      "current_user_data = signin(user_to_use, user_to_use)\n",
      "\n",
      "# 2) find the team information you want to add to\n",
      "\n",
      "team_data = getTeamByName('teamawesome')\n",
      "user_data = getUserByName('usertwo')\n",
      "\n",
      "# 3) add user to team\n",
      "\n",
      "addTeamMember(current_user_data['sid'], team_data, user_data)\n",
      "\n",
      "# 4) repeate with team mate #3\n",
      "\n",
      "user_data = getUserByName('userthree')\n",
      "addTeamMember(current_user_data['sid'], team_data, user_data)\n"
     ],
     "language": "python",
     "metadata": {},
     "outputs": [
      {
       "output_type": "stream",
       "stream": "stdout",
       "text": [
        "login as userone successful\n",
        "{\"competitions\":[],\"displayName\":\"Awesome team\",\"manager\":\"516bb2e994ab583c\",\"userList\":[\"516bb2e994ab583c\",\"0870df8820cd18b6\",\"f20ca38334e54b3a\"],\"username\":\"teamawesome\",\"id\":\"e0d62c1416343ae1\"}\n",
        "{\"competitions\":[],\"displayName\":\"Awesome team\",\"manager\":\"516bb2e994ab583c\",\"userList\":[\"516bb2e994ab583c\",\"0870df8820cd18b6\",\"f20ca38334e54b3a\"],\"username\":\"teamawesome\",\"id\":\"e0d62c1416343ae1\"}"
       ]
      },
      {
       "output_type": "stream",
       "stream": "stdout",
       "text": [
        "\n"
       ]
      }
     ],
     "prompt_number": 130
    },
    {
     "cell_type": "markdown",
     "metadata": {},
     "source": [
      "### Competition\n",
      "\n",
      "        id\n",
      "        date created\n",
      "        date simulated\n",
      "        owner\n",
      "\n",
      "        minTeams\n",
      "        maxTeams\n",
      "\n",
      "        simulationState\n",
      "\n",
      "        team_result\n",
      "            [team_id, number of wins, number of crises]\n",
      "\n",
      "        individual_result\n",
      "            [user_id, number of wins, number of crises]\n",
      "\n",
      "           "
     ]
    },
    {
     "cell_type": "code",
     "collapsed": false,
     "input": [
      "# first sign in as user\n",
      "user_to_use = 'userone'\n",
      "\n",
      "current_user_data = signin(user_to_use, user_to_use)\n",
      "\n",
      "# creating a competition\n",
      "payload = {\n",
      "    'simulationDate': '',\n",
      "    'simulationState': 'created',\n",
      "    'teamResult' : [],\n",
      "    'individualResult' : [],\n",
      "    'maxTeams' : 3,\n",
      "    'minTeams' : 1,\n",
      "    'owner' : current_user_data['uid']\n",
      "    }\n",
      "\n",
      "cookies = dict(sid=current_user_data['sid'])\n",
      "\n",
      "r = requests.post(\"http://localhost:2403/competitions\", data=json.dumps(payload), cookies=cookies)\n",
      "\n",
      "print r.text\n",
      "\n"
     ],
     "language": "python",
     "metadata": {},
     "outputs": []
    }
   ],
   "metadata": {}
  }
 ]
}